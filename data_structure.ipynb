{
 "cells": [
  {
   "cell_type": "markdown",
   "id": "78e82420-53d0-4e6b-a630-ae2ab236f9b9",
   "metadata": {},
   "source": [
    " # Q1)Discuss string slicing and provide examples."
   ]
  },
  {
   "cell_type": "code",
   "execution_count": 4,
   "id": "f473fffd-0ff6-4117-a35c-b028ff285b28",
   "metadata": {},
   "outputs": [],
   "source": [
    "\n",
    "# ANS:string is a set of characters.They are collection of ordered elements has specific index allocated\n",
    "#  to each character within the string. string slicing is the art of extracting specific portions(substrings)\n",
    "#  from a string by specifying start and end of indices. here,start index is included and end index is\n",
    "#  excluded in sliced string,also step index (optional) specifies gap between each index for slicing(skips\n",
    "#  the element). simple syntax: string[start:end]\n",
    " "
   ]
  },
  {
   "cell_type": "code",
   "execution_count": 16,
   "id": "1c3aa6e2-9491-43d1-868f-de219a050600",
   "metadata": {},
   "outputs": [
    {
     "data": {
      "text/plain": [
       "'oon'"
      ]
     },
     "execution_count": 16,
     "metadata": {},
     "output_type": "execute_result"
    }
   ],
   "source": [
    "#example on slicing of string\n",
    "string = \"Poonam\"\n",
    "string[1:4] # slice from index 1(included) to index 4(excluded)"
   ]
  },
  {
   "cell_type": "code",
   "execution_count": 17,
   "id": "6aa6c450-caf4-4229-a148-5ae2c1315902",
   "metadata": {},
   "outputs": [
    {
     "data": {
      "text/plain": [
       "'Poa'"
      ]
     },
     "execution_count": 17,
     "metadata": {},
     "output_type": "execute_result"
    }
   ],
   "source": [
    "string[0:5:2] #string[start:end:step]"
   ]
  },
  {
   "cell_type": "code",
   "execution_count": 18,
   "id": "085c8036-6308-4d06-aecd-1ced67bd7616",
   "metadata": {},
   "outputs": [
    {
     "data": {
      "text/plain": [
       "'Poonam'"
      ]
     },
     "execution_count": 18,
     "metadata": {},
     "output_type": "execute_result"
    }
   ],
   "source": [
    "string[0:]"
   ]
  },
  {
   "cell_type": "code",
   "execution_count": 14,
   "id": "24e4d52d-9cc4-43ea-baff-b8eb7d19bb9b",
   "metadata": {},
   "outputs": [
    {
     "data": {
      "text/plain": [
       "'ani'"
      ]
     },
     "execution_count": 14,
     "metadata": {},
     "output_type": "execute_result"
    }
   ],
   "source": [
    "string[-3:] #indicates include last three characters"
   ]
  },
  {
   "cell_type": "code",
   "execution_count": 20,
   "id": "aa3be03e-17ce-4c30-bf33-54d0e050105a",
   "metadata": {},
   "outputs": [
    {
     "data": {
      "text/plain": [
       "'Poon'"
      ]
     },
     "execution_count": 20,
     "metadata": {},
     "output_type": "execute_result"
    }
   ],
   "source": [
    "string[:-2] #indicates skip last two characters"
   ]
  },
  {
   "cell_type": "markdown",
   "id": "b9477a9f-3622-425c-a781-ff8583dd099f",
   "metadata": {},
   "source": [
    "#  Q2)Explain key features of lists in python."
   ]
  },
  {
   "cell_type": "markdown",
   "id": "062aa0dd-dd51-48b4-a228-4bce3519a28f",
   "metadata": {},
   "source": [
    " ANS:List:list is an in-build datatype an ordered collection of elements/objects in single variable\n",
    " with some index acquired by each element. They are created using [] brackets."
   ]
  },
  {
   "cell_type": "code",
   "execution_count": 22,
   "id": "f4d30404-565c-4f51-944b-db8b1c1b1088",
   "metadata": {},
   "outputs": [
    {
     "data": {
      "text/plain": [
       "[1, 2, 3, 4, 5]"
      ]
     },
     "execution_count": 22,
     "metadata": {},
     "output_type": "execute_result"
    }
   ],
   "source": [
    " #ex of list\n",
    "l =[1,2,3,4,5]\n",
    "l"
   ]
  },
  {
   "cell_type": "markdown",
   "id": "a84ff78c-7d85-4ab2-83df-99211b7eb667",
   "metadata": {},
   "source": [
    " key features of lists in python are as follows:\n",
    " 1)Lists are ordered. It is collection of ordered elements.hence,maintains order of elements,allows\n",
    " you to access elements by their index. The order is preserved even after insertion and deletion\n",
    " operations."
   ]
  },
  {
   "cell_type": "code",
   "execution_count": 25,
   "id": "79aff50f-283c-485f-87af-6a133f73f2ee",
   "metadata": {},
   "outputs": [
    {
     "data": {
      "text/plain": [
       "False"
      ]
     },
     "execution_count": 25,
     "metadata": {},
     "output_type": "execute_result"
    }
   ],
   "source": [
    "#ex1)two variables having same elements but in different order are not same\n",
    "a=[\"1\",\"2\",\"3\",\"5\"]\n",
    "b=[\"3\",\"1\",\"4\",\"2\"]\n",
    "a==b"
   ]
  },
  {
   "cell_type": "markdown",
   "id": "afaf3201-69a2-433a-a334-3f545ca5e610",
   "metadata": {},
   "source": [
    " 2)lists are heterogeneous. list can contain anything and everything.hence they are heteroge\n",
    "neous because elements in list could have datatypes like characters,strings,integer,boolean,complex\n",
    " number,float or may be combination of all datatypes, same datatype could appear multiple\n",
    " times(duplicate elements) in a single list or variable.even other list within a list is possible.They\n",
    " can be iterated by loops. They are also homogeneous as we can use one specific datatype in a single\n",
    " list.ex int"
   ]
  },
  {
   "cell_type": "code",
   "execution_count": 26,
   "id": "313b908f-c488-4dd1-8d7a-f53ed4440761",
   "metadata": {},
   "outputs": [
    {
     "data": {
      "text/plain": [
       "[1, 2, 3, 4]"
      ]
     },
     "execution_count": 26,
     "metadata": {},
     "output_type": "execute_result"
    }
   ],
   "source": [
    "#ex2)\n",
    "l=[1,2,3,4] #only integer type in a list(homogeneous)\n",
    "l"
   ]
  },
  {
   "cell_type": "code",
   "execution_count": 27,
   "id": "30d80e4a-e24f-49d7-9242-139c04de53bc",
   "metadata": {},
   "outputs": [
    {
     "data": {
      "text/plain": [
       "list"
      ]
     },
     "execution_count": 27,
     "metadata": {},
     "output_type": "execute_result"
    }
   ],
   "source": [
    " type(l)"
   ]
  },
  {
   "cell_type": "code",
   "execution_count": 28,
   "id": "20216001-74c3-4cb0-8af3-a2e3d86afbf6",
   "metadata": {},
   "outputs": [
    {
     "data": {
      "text/plain": [
       "['jay', 'yash', 'anurag']"
      ]
     },
     "execution_count": 28,
     "metadata": {},
     "output_type": "execute_result"
    }
   ],
   "source": [
    "l=[\"jay\",\"yash\",\"anurag\"] #only strings in a list(homo)\n",
    "l"
   ]
  },
  {
   "cell_type": "code",
   "execution_count": 29,
   "id": "d78ec0ef-0aea-4a57-b138-3a5d15178e14",
   "metadata": {},
   "outputs": [
    {
     "data": {
      "text/plain": [
       "['a', 'b', 'c']"
      ]
     },
     "execution_count": 29,
     "metadata": {},
     "output_type": "execute_result"
    }
   ],
   "source": [
    "l=['a','b','c'] #only characters in a list(homo)\n",
    "l"
   ]
  },
  {
   "cell_type": "code",
   "execution_count": 32,
   "id": "cf3e5fb8-8854-4bdb-b1c7-0eeb6f0288c4",
   "metadata": {},
   "outputs": [],
   "source": [
    " l=[\"Ritik\",2.5,200,2+3j,True] #combination of different␣ ↪datatypes(heterogeneous)"
   ]
  },
  {
   "cell_type": "code",
   "execution_count": 33,
   "id": "37f1bf69-9010-464c-a751-812716dfac6b",
   "metadata": {},
   "outputs": [
    {
     "data": {
      "text/plain": [
       "['Ritik', 2.5, 200, (2+3j), True]"
      ]
     },
     "execution_count": 33,
     "metadata": {},
     "output_type": "execute_result"
    }
   ],
   "source": [
    "l"
   ]
  },
  {
   "cell_type": "code",
   "execution_count": 35,
   "id": "b0ea7704-4be5-40d1-af68-d8aac4abe336",
   "metadata": {},
   "outputs": [
    {
     "data": {
      "text/plain": [
       "['RRR', 100, 'lll', 100]"
      ]
     },
     "execution_count": 35,
     "metadata": {},
     "output_type": "execute_result"
    }
   ],
   "source": [
    "l=[\"RRR\",100,\"lll\",100] #same datatype(value) appeared 2 times(duplicate␣↪elements allowed)\n",
    "l"
   ]
  },
  {
   "cell_type": "code",
   "execution_count": 36,
   "id": "b99da3f9-604c-4ea8-ac3a-ebc67d0c7326",
   "metadata": {},
   "outputs": [
    {
     "data": {
      "text/plain": [
       "[[1, 2, 3], ['joe', 'moe']]"
      ]
     },
     "execution_count": 36,
     "metadata": {},
     "output_type": "execute_result"
    }
   ],
   "source": [
    "#nesting of list:list that appears as element in another list\n",
    "mylist=[[1,2,3],[\"joe\",\"moe\"]]\n",
    "mylist"
   ]
  },
  {
   "cell_type": "markdown",
   "id": "6a61e53d-826a-453f-a200-c75a0e2c04dd",
   "metadata": {},
   "source": [
    " 3)list elements can be accessed by index individual elements in a list can be accessed using index in\n",
    " square brackets.starts from 0,1,2…thus,eack element has unique index corrosponding to its position\n",
    " in the list. Negetive indexing of elements can be accessed from end of the list."
   ]
  },
  {
   "cell_type": "code",
   "execution_count": 1,
   "id": "a2f37cf4-80d1-4854-8b5b-96d292704561",
   "metadata": {},
   "outputs": [
    {
     "data": {
      "text/plain": [
       "12"
      ]
     },
     "execution_count": 1,
     "metadata": {},
     "output_type": "execute_result"
    }
   ],
   "source": [
    "#ex3)\n",
    "l=[12,\"ions\",3.4]\n",
    "l[0] #0th index value"
   ]
  },
  {
   "cell_type": "code",
   "execution_count": 2,
   "id": "770434e1-69a4-4e5a-a404-ded49e56db93",
   "metadata": {},
   "outputs": [
    {
     "data": {
      "text/plain": [
       "3.4"
      ]
     },
     "execution_count": 2,
     "metadata": {},
     "output_type": "execute_result"
    }
   ],
   "source": [
    "l[-1] #negetive index value"
   ]
  },
  {
   "cell_type": "code",
   "execution_count": 3,
   "id": "20527ab1-3147-4606-9364-e16d70393f2d",
   "metadata": {},
   "outputs": [
    {
     "data": {
      "text/plain": [
       "['a', 'b', 'c']"
      ]
     },
     "execution_count": 3,
     "metadata": {},
     "output_type": "execute_result"
    }
   ],
   "source": [
    "#deep copy:change in one variable will not reflect in another variable\n",
    "kirti=[\"a\",\"b\",\"c\"]\n",
    "ajay=kirti.copy()\n",
    "ajay"
   ]
  },
  {
   "cell_type": "code",
   "execution_count": 4,
   "id": "4f124e11-189d-4ac7-93f4-8398e63011c5",
   "metadata": {},
   "outputs": [
    {
     "data": {
      "text/plain": [
       "['a', 'b', 'c']"
      ]
     },
     "execution_count": 4,
     "metadata": {},
     "output_type": "execute_result"
    }
   ],
   "source": [
    "kirti"
   ]
  },
  {
   "cell_type": "code",
   "execution_count": 6,
   "id": "d6d6964e-105c-4fc8-9419-8fe5216c8471",
   "metadata": {},
   "outputs": [
    {
     "data": {
      "text/plain": [
       "['d', 'b', 'c']"
      ]
     },
     "execution_count": 6,
     "metadata": {},
     "output_type": "execute_result"
    }
   ],
   "source": [
    "kirti[0]=\"d\"\n",
    "kirti"
   ]
  },
  {
   "cell_type": "code",
   "execution_count": 7,
   "id": "0060f3a5-a4f3-4bf6-954f-dee488dcdee8",
   "metadata": {},
   "outputs": [
    {
     "data": {
      "text/plain": [
       "['a', 'b', 'c']"
      ]
     },
     "execution_count": 7,
     "metadata": {},
     "output_type": "execute_result"
    }
   ],
   "source": [
    "ajay #change in kriti not reflected in ajay"
   ]
  },
  {
   "cell_type": "code",
   "execution_count": 8,
   "id": "0bc549e3-ac1a-495f-bfe7-50467c91edfe",
   "metadata": {},
   "outputs": [
    {
     "data": {
      "text/plain": [
       "[1, 2, 3, 4]"
      ]
     },
     "execution_count": 8,
     "metadata": {},
     "output_type": "execute_result"
    }
   ],
   "source": [
    "#shallow copy:change in one variable will reflect in another variable\n",
    "kirti=[1,2,3,4]\n",
    "ajay=kirti\n",
    "kirti"
   ]
  },
  {
   "cell_type": "code",
   "execution_count": 9,
   "id": "2099c26a-6f3b-4bf6-8a6f-854ca719f284",
   "metadata": {},
   "outputs": [
    {
     "data": {
      "text/plain": [
       "[1, 2, 3, 4]"
      ]
     },
     "execution_count": 9,
     "metadata": {},
     "output_type": "execute_result"
    }
   ],
   "source": [
    "ajay"
   ]
  },
  {
   "cell_type": "code",
   "execution_count": 11,
   "id": "21767bbb-cc56-4276-b244-c333d315e599",
   "metadata": {},
   "outputs": [
    {
     "data": {
      "text/plain": [
       "[9, 2, 3, 4]"
      ]
     },
     "execution_count": 11,
     "metadata": {},
     "output_type": "execute_result"
    }
   ],
   "source": [
    "kirti[0]=9\n",
    "kirti"
   ]
  },
  {
   "cell_type": "code",
   "execution_count": 12,
   "id": "558344c5-c65a-4ac9-be23-ee8b6bd0e64c",
   "metadata": {},
   "outputs": [
    {
     "data": {
      "text/plain": [
       "[9, 2, 3, 4]"
      ]
     },
     "execution_count": 12,
     "metadata": {},
     "output_type": "execute_result"
    }
   ],
   "source": [
    "ajay #kirti's values reflected in ajay"
   ]
  },
  {
   "cell_type": "code",
   "execution_count": 13,
   "id": "6f03e5bc-32d0-41c0-ae91-43b73f516e9a",
   "metadata": {},
   "outputs": [
    {
     "data": {
      "text/plain": [
       "['alooo', 'leleo', 56]"
      ]
     },
     "execution_count": 13,
     "metadata": {},
     "output_type": "execute_result"
    }
   ],
   "source": [
    "#membership operators(in and not in)\n",
    "l=[\"alooo\",\"leleo\",56]\n",
    "l"
   ]
  },
  {
   "cell_type": "code",
   "execution_count": 14,
   "id": "21f562bf-59b0-4e21-a07b-a96b439dce2a",
   "metadata": {},
   "outputs": [
    {
     "data": {
      "text/plain": [
       "True"
      ]
     },
     "execution_count": 14,
     "metadata": {},
     "output_type": "execute_result"
    }
   ],
   "source": [
    "\"leleo\" in l"
   ]
  },
  {
   "cell_type": "code",
   "execution_count": 15,
   "id": "29227956-e74a-449b-b0cb-22a8edf79aab",
   "metadata": {},
   "outputs": [
    {
     "data": {
      "text/plain": [
       "False"
      ]
     },
     "execution_count": 15,
     "metadata": {},
     "output_type": "execute_result"
    }
   ],
   "source": [
    "\"leleo\" not in l"
   ]
  },
  {
   "cell_type": "code",
   "execution_count": 16,
   "id": "4a6d9dd1-4c58-4345-8822-84ce8c46ee6d",
   "metadata": {},
   "outputs": [
    {
     "data": {
      "text/plain": [
       "['you are great', 'you are clever', 'i am the best']"
      ]
     },
     "execution_count": 16,
     "metadata": {},
     "output_type": "execute_result"
    }
   ],
   "source": [
    "#concatenation(+):creates new list by adding another list to it.\n",
    "a=[\"you are great\",\"you are clever\"]\n",
    "b=[\"i am the best\"]\n",
    "a+b"
   ]
  },
  {
   "cell_type": "code",
   "execution_count": 17,
   "id": "1ac349d3-66dd-4ffc-b1f6-5a4450c92a95",
   "metadata": {},
   "outputs": [
    {
     "data": {
      "text/plain": [
       "['you are great', 'you are clever', 'you are great', 'you are clever']"
      ]
     },
     "execution_count": 17,
     "metadata": {},
     "output_type": "execute_result"
    }
   ],
   "source": [
    " #replication(*):broadcast same msg multiple times\n",
    "a*2"
   ]
  },
  {
   "cell_type": "code",
   "execution_count": 18,
   "id": "063b77a1-cd81-446d-8713-a95ab4a2eb20",
   "metadata": {},
   "outputs": [
    {
     "data": {
      "text/plain": [
       "5"
      ]
     },
     "execution_count": 18,
     "metadata": {},
     "output_type": "execute_result"
    }
   ],
   "source": [
    "#len(),min(),max()\n",
    "a=[1,2,3,4,5]\n",
    "len(a)"
   ]
  },
  {
   "cell_type": "code",
   "execution_count": 19,
   "id": "bedc3427-330e-4f8b-add1-a72df6fc17d4",
   "metadata": {},
   "outputs": [
    {
     "data": {
      "text/plain": [
       "1"
      ]
     },
     "execution_count": 19,
     "metadata": {},
     "output_type": "execute_result"
    }
   ],
   "source": [
    "min(a)"
   ]
  },
  {
   "cell_type": "code",
   "execution_count": 20,
   "id": "be3ad941-da0d-4075-9626-550a890a341d",
   "metadata": {},
   "outputs": [
    {
     "data": {
      "text/plain": [
       "5"
      ]
     },
     "execution_count": 20,
     "metadata": {},
     "output_type": "execute_result"
    }
   ],
   "source": [
    "max(a)"
   ]
  },
  {
   "cell_type": "markdown",
   "id": "d6d87891-7f20-4522-a8db-2a5a074a931d",
   "metadata": {},
   "source": [
    " list supports slicing It allows you to extract from both positive and negetive indices a specific\n",
    " portion(substrings) from the list by specifying start and end of the extracting portion.\n",
    " "
   ]
  },
  {
   "cell_type": "code",
   "execution_count": 21,
   "id": "91f3650b-1ad7-4f81-95ac-6e96da9c13fe",
   "metadata": {},
   "outputs": [
    {
     "data": {
      "text/plain": [
       "[1, 2, 'kpop', 23.4]"
      ]
     },
     "execution_count": 21,
     "metadata": {},
     "output_type": "execute_result"
    }
   ],
   "source": [
    "#ex4)\n",
    "l=[1,2,\"kpop\",23.4,]\n",
    "l"
   ]
  },
  {
   "cell_type": "code",
   "execution_count": 22,
   "id": "592d46c2-3826-4aac-be48-6bd55858174c",
   "metadata": {},
   "outputs": [
    {
     "data": {
      "text/plain": [
       "[2, 'kpop', 23.4]"
      ]
     },
     "execution_count": 22,
     "metadata": {},
     "output_type": "execute_result"
    }
   ],
   "source": [
    "l[1:]"
   ]
  },
  {
   "cell_type": "code",
   "execution_count": 23,
   "id": "765f5b15-af25-45e0-8aed-680574903d82",
   "metadata": {},
   "outputs": [
    {
     "data": {
      "text/plain": [
       "[2, 'kpop']"
      ]
     },
     "execution_count": 23,
     "metadata": {},
     "output_type": "execute_result"
    }
   ],
   "source": [
    "l[1:3]"
   ]
  },
  {
   "cell_type": "code",
   "execution_count": 24,
   "id": "b47990e5-79df-4200-81a0-4da0de395dd8",
   "metadata": {},
   "outputs": [
    {
     "data": {
      "text/plain": [
       "[2, 'kpop', 23.4]"
      ]
     },
     "execution_count": 24,
     "metadata": {},
     "output_type": "execute_result"
    }
   ],
   "source": [
    "l[-3:]"
   ]
  },
  {
   "cell_type": "code",
   "execution_count": 25,
   "id": "f387bd11-9e33-41b6-bfca-540ffaf8744c",
   "metadata": {},
   "outputs": [
    {
     "data": {
      "text/plain": [
       "[1, 2, 'kpop']"
      ]
     },
     "execution_count": 25,
     "metadata": {},
     "output_type": "execute_result"
    }
   ],
   "source": [
    "l[-4:-1]"
   ]
  },
  {
   "cell_type": "code",
   "execution_count": 26,
   "id": "9dd076b0-1760-4eff-95bf-83ef6d52b8f4",
   "metadata": {},
   "outputs": [
    {
     "data": {
      "text/plain": [
       "[1, 'kpop']"
      ]
     },
     "execution_count": 26,
     "metadata": {},
     "output_type": "execute_result"
    }
   ],
   "source": [
    "l[0:4:2]"
   ]
  },
  {
   "cell_type": "code",
   "execution_count": 27,
   "id": "1b9fbfab-9f47-4c4b-b342-513e61c48384",
   "metadata": {},
   "outputs": [
    {
     "data": {
      "text/plain": [
       "[23.4, 2]"
      ]
     },
     "execution_count": 27,
     "metadata": {},
     "output_type": "execute_result"
    }
   ],
   "source": [
    "l[4:0:-2]"
   ]
  },
  {
   "cell_type": "code",
   "execution_count": 28,
   "id": "fed78e8f-ea07-4bf7-bc84-657454278dc3",
   "metadata": {},
   "outputs": [
    {
     "data": {
      "text/plain": [
       "[7, 23.45, 154660, 'pwskills']"
      ]
     },
     "execution_count": 28,
     "metadata": {},
     "output_type": "execute_result"
    }
   ],
   "source": [
    "a=[\"pwskills\",154660,23.45,2+5] #reversing the list\n",
    "a[::-1]"
   ]
  },
  {
   "cell_type": "markdown",
   "id": "9af0a383-bd00-4472-b0ac-f7f81aa0cb51",
   "metadata": {},
   "source": [
    " 5)lists are Mutable:They can be modified after creation which enables you to ap\n",
    "pend,remove,pop,replace,insert,extend,search,sort,iterates elements as per requirement. This makes\n",
    " list dynamic as it grows or shrinks as per needed also makes it adoptable to changing data require\n",
    "ments."
   ]
  },
  {
   "cell_type": "code",
   "execution_count": 29,
   "id": "3e950675-03fb-4255-90c1-8735e9ebf631",
   "metadata": {},
   "outputs": [
    {
     "data": {
      "text/plain": [
       "['leh', 'burj', 'khalifa', 'mountains', 'rivers']"
      ]
     },
     "execution_count": 29,
     "metadata": {},
     "output_type": "execute_result"
    }
   ],
   "source": [
    "#ex5)append(add) at the end of the list\n",
    "l = [\"leh\",\"burj\",\"khalifa\",\"mountains\"] #syntax: list.append(element)\n",
    "l.append(\"rivers\")\n",
    "l"
   ]
  },
  {
   "cell_type": "code",
   "execution_count": 30,
   "id": "2ec908a1-5ac7-4497-8215-7e3355a55af9",
   "metadata": {},
   "outputs": [
    {
     "data": {
      "text/plain": [
       "[1, 3, 4]"
      ]
     },
     "execution_count": 30,
     "metadata": {},
     "output_type": "execute_result"
    }
   ],
   "source": [
    "#remove\n",
    "l=[1,2,3,4] #syntax:list.remove(element)\n",
    "l.remove(2)\n",
    "l"
   ]
  },
  {
   "cell_type": "code",
   "execution_count": 31,
   "id": "5c4aa83c-da9f-4dfb-acf6-280bf0c69519",
   "metadata": {},
   "outputs": [
    {
     "data": {
      "text/plain": [
       "[9, 8]"
      ]
     },
     "execution_count": 31,
     "metadata": {},
     "output_type": "execute_result"
    }
   ],
   "source": [
    "#pop\n",
    "l=[9,8,7] #syntax:list.pop() or pop(index value may be positive or negetive)\n",
    "l.pop(-1)\n",
    "l"
   ]
  },
  {
   "cell_type": "code",
   "execution_count": 32,
   "id": "6194888a-2b84-4062-9d1d-fc1f59ce3cce",
   "metadata": {},
   "outputs": [
    {
     "data": {
      "text/plain": [
       "['Ram', 'leela']"
      ]
     },
     "execution_count": 32,
     "metadata": {},
     "output_type": "execute_result"
    }
   ],
   "source": [
    "#replace at any index if mentioned in command\n",
    "l=[\"Ram\",\"leela\"]\n",
    "l"
   ]
  },
  {
   "cell_type": "code",
   "execution_count": 34,
   "id": "a5fdc570-397a-4cca-abcd-afd47e6a6cdc",
   "metadata": {},
   "outputs": [
    {
     "data": {
      "text/plain": [
       "\"['Ram', 'sita']\""
      ]
     },
     "execution_count": 34,
     "metadata": {},
     "output_type": "execute_result"
    }
   ],
   "source": [
    "l[1]=\"sita\"\n",
    "str(l)"
   ]
  },
  {
   "cell_type": "code",
   "execution_count": 35,
   "id": "c55aa10d-f80a-45da-99e9-fc3d4f1db4c5",
   "metadata": {},
   "outputs": [
    {
     "data": {
      "text/plain": [
       "\"['Ram', 'geeta']\""
      ]
     },
     "execution_count": 35,
     "metadata": {},
     "output_type": "execute_result"
    }
   ],
   "source": [
    "str(l).replace(\"sita\",\"geeta\")"
   ]
  },
  {
   "cell_type": "code",
   "execution_count": 36,
   "id": "3fcbe18e-6966-4586-9f7e-1d1e0c8f0849",
   "metadata": {},
   "outputs": [
    {
     "data": {
      "text/plain": [
       "['live', 'your', 'life', 'as', 'you', 'want']"
      ]
     },
     "execution_count": 36,
     "metadata": {},
     "output_type": "execute_result"
    }
   ],
   "source": [
    " #insert element at specific index\n",
    "l=[\"live\",\"life\",\"as\",\"you\",\"want\"] #syntax:list.insert(position,element)\n",
    "l.insert(1,\"your\")\n",
    "l"
   ]
  },
  {
   "cell_type": "code",
   "execution_count": 37,
   "id": "13525846-7eef-47d0-bb34-0f57ddf4cc4a",
   "metadata": {},
   "outputs": [
    {
     "data": {
      "text/plain": [
       "['a', 'b', 1, 2, 3]"
      ]
     },
     "execution_count": 37,
     "metadata": {},
     "output_type": "execute_result"
    }
   ],
   "source": [
    "#extend:modifies original list\n",
    "a=['a','b']\n",
    "a.extend([1,2,3])\n",
    "a"
   ]
  },
  {
   "cell_type": "markdown",
   "id": "98d788bf-0de4-468c-8812-687bf285b896",
   "metadata": {},
   "source": [
    "# Q3)Describe how to access,modify and delete elements in a list with examples"
   ]
  },
  {
   "cell_type": "code",
   "execution_count": 38,
   "id": "ec17f952-b3eb-4e3a-9a85-863c8deedb2f",
   "metadata": {},
   "outputs": [
    {
     "data": {
      "text/plain": [
       "'lollipop'"
      ]
     },
     "execution_count": 38,
     "metadata": {},
     "output_type": "execute_result"
    }
   ],
   "source": [
    "#ANS:list elements can be accessed by index\n",
    "a=[\"lollipop\",1,2.3,500]\n",
    "a[0]"
   ]
  },
  {
   "cell_type": "code",
   "execution_count": 39,
   "id": "5f59657c-a6e3-4699-8654-1dd613de2b04",
   "metadata": {},
   "outputs": [
    {
     "data": {
      "text/plain": [
       "2.3"
      ]
     },
     "execution_count": 39,
     "metadata": {},
     "output_type": "execute_result"
    }
   ],
   "source": [
    "a[-2]"
   ]
  },
  {
   "cell_type": "code",
   "execution_count": 40,
   "id": "5066bb81-6d68-4252-aa6e-979e4695716b",
   "metadata": {},
   "outputs": [
    {
     "data": {
      "text/plain": [
       "[1, 2, 3, 123]"
      ]
     },
     "execution_count": 40,
     "metadata": {},
     "output_type": "execute_result"
    }
   ],
   "source": [
    "#methods to modify the list\n",
    " #append:adds object to the list\n",
    "a=[1,2,3]\n",
    "a.append(123)\n",
    "a"
   ]
  },
  {
   "cell_type": "code",
   "execution_count": 41,
   "id": "d4b013b7-6f5f-41c0-9454-f95c15bad143",
   "metadata": {},
   "outputs": [
    {
     "data": {
      "text/plain": [
       "[2, 3, 4, 7]"
      ]
     },
     "execution_count": 41,
     "metadata": {},
     "output_type": "execute_result"
    }
   ],
   "source": [
    "#sort:sorts list in ascending order\n",
    "z=[3,7,4,2]\n",
    "z.sort()\n",
    "z"
   ]
  },
  {
   "cell_type": "code",
   "execution_count": 42,
   "id": "cbc2f4b5-08c0-40b0-8e17-a71a46136209",
   "metadata": {},
   "outputs": [
    {
     "data": {
      "text/plain": [
       "[7, 4, 3, 2]"
      ]
     },
     "execution_count": 42,
     "metadata": {},
     "output_type": "execute_result"
    }
   ],
   "source": [
    "z.sort(reverse =True) #desending order\n",
    "z"
   ]
  },
  {
   "cell_type": "code",
   "execution_count": 43,
   "id": "6ad504fe-271c-4402-a919-6a6fedd0eabe",
   "metadata": {},
   "outputs": [
    {
     "data": {
      "text/plain": [
       "[1, 3, 6]"
      ]
     },
     "execution_count": 43,
     "metadata": {},
     "output_type": "execute_result"
    }
   ],
   "source": [
    "#remove:\n",
    "z=[1,3,4,6]\n",
    "z.remove(4) #direct value 4 is assigned in command\n",
    "z"
   ]
  },
  {
   "cell_type": "code",
   "execution_count": 44,
   "id": "a1292912-1a16-42a2-b3b4-2d4f1dfc0f11",
   "metadata": {},
   "outputs": [
    {
     "data": {
      "text/plain": [
       "[0, 2]"
      ]
     },
     "execution_count": 44,
     "metadata": {},
     "output_type": "execute_result"
    }
   ],
   "source": [
    "#pop:pops index value is assigned to command whose object is to be removed\n",
    " #by defalut if index value is not assigned in command it pop the last value as 2\n",
    "z=[0,56,2]\n",
    "z.pop(1) #here 1 is index value assigned in command to remove 56\n",
    "z"
   ]
  },
  {
   "cell_type": "code",
   "execution_count": 45,
   "id": "9786451a-f7db-499a-ad49-225a216f1864",
   "metadata": {},
   "outputs": [
    {
     "data": {
      "text/plain": [
       "[9, 0, 7, 3, 4, 5]"
      ]
     },
     "execution_count": 45,
     "metadata": {},
     "output_type": "execute_result"
    }
   ],
   "source": [
    " #extend:modifies original list\n",
    "z=[9,0,7]\n",
    "z.extend([3,4,5])\n",
    "z"
   ]
  },
  {
   "cell_type": "code",
   "execution_count": 46,
   "id": "93fab0b7-ec98-4dfa-b2c1-b7caa374a08c",
   "metadata": {},
   "outputs": [
    {
     "data": {
      "text/plain": [
       "[1, 2, 3, [5, 6, 7], 4]"
      ]
     },
     "execution_count": 46,
     "metadata": {},
     "output_type": "execute_result"
    }
   ],
   "source": [
    " #insert:insert the element at particular index\n",
    "z=[1,2,3,4]\n",
    "z.insert(3,[5,6,7])\n",
    "z"
   ]
  },
  {
   "cell_type": "markdown",
   "id": "a943e3a5-eae6-4931-859f-661cbc462837",
   "metadata": {},
   "source": [
    "# Q4)Compare and contrast tuples and lists with examples"
   ]
  },
  {
   "cell_type": "markdown",
   "id": "d3a8799a-e900-457f-908e-77e1927132e3",
   "metadata": {},
   "source": [
    " ANS:SIMILARITIES: 1)List and tuple both are built-in datastructures in python,they are or\n",
    "fered collection of elements/objects,they are containers that stores and manipulates a multiple\n",
    " elements(data) of same or different datatypes(int,bool,complex etc) in a single variable.can have\n",
    " duplicate elements too. They can be iterable by loops"
   ]
  },
  {
   "cell_type": "code",
   "execution_count": 47,
   "id": "e8f0a7dc-e050-41c5-a287-3c68b0436fc6",
   "metadata": {},
   "outputs": [
    {
     "data": {
      "text/plain": [
       "[1, 'ee', 3.5, True, 3, 3, 3]"
      ]
     },
     "execution_count": 47,
     "metadata": {},
     "output_type": "execute_result"
    }
   ],
   "source": [
    "a=[1,\"ee\",3.5,True,3,3,3] #list\n",
    "a"
   ]
  },
  {
   "cell_type": "code",
   "execution_count": 48,
   "id": "ce19c77b-2b8c-46d7-b827-485103761d35",
   "metadata": {},
   "outputs": [
    {
     "data": {
      "text/plain": [
       "(2, 'ff', 4.5, False, 2, 2, 2)"
      ]
     },
     "execution_count": 48,
     "metadata": {},
     "output_type": "execute_result"
    }
   ],
   "source": [
    "b=(2,\"ff\",4.5,False,2,2,2)#tuple\n",
    "b"
   ]
  },
  {
   "cell_type": "markdown",
   "id": "11ba5904-3209-44fb-a783-530254092ab6",
   "metadata": {},
   "source": [
    "2)both can access elements by their index"
   ]
  },
  {
   "cell_type": "code",
   "execution_count": 50,
   "id": "31aeaec9-717a-421a-be52-dd53428e9a14",
   "metadata": {},
   "outputs": [
    {
     "data": {
      "text/plain": [
       "1"
      ]
     },
     "execution_count": 50,
     "metadata": {},
     "output_type": "execute_result"
    }
   ],
   "source": [
    "a[0] #list"
   ]
  },
  {
   "cell_type": "code",
   "execution_count": 51,
   "id": "436e5d68-a4a1-4c3e-a619-2e8f21c9c1ba",
   "metadata": {},
   "outputs": [
    {
     "data": {
      "text/plain": [
       "'ff'"
      ]
     },
     "execution_count": 51,
     "metadata": {},
     "output_type": "execute_result"
    }
   ],
   "source": [
    "b[1]# tuple"
   ]
  },
  {
   "cell_type": "markdown",
   "id": "66790f1b-e75a-4d65-8bcb-9f6666693a3b",
   "metadata": {},
   "source": [
    "3)Concatenation,repetition,slicing,nesting,sorting of list can be done for both types."
   ]
  },
  {
   "cell_type": "code",
   "execution_count": 52,
   "id": "278a7579-4270-4eba-9b5f-4d9a6319e51c",
   "metadata": {},
   "outputs": [
    {
     "data": {
      "text/plain": [
       "[1, 2, 3, 5, 6, 7]"
      ]
     },
     "execution_count": 52,
     "metadata": {},
     "output_type": "execute_result"
    }
   ],
   "source": [
    " #LIST operations:Concatenation\n",
    "L1=[1,2,3]\n",
    "L2=[5,6,7]\n",
    "L3=L1+L2\n",
    "L3"
   ]
  },
  {
   "cell_type": "code",
   "execution_count": 58,
   "id": "c757cfb5-36c3-483f-b60b-a35ef7618fac",
   "metadata": {},
   "outputs": [
    {
     "data": {
      "text/plain": [
       "[[1, 2, 3], [9, 7, 5]]"
      ]
     },
     "execution_count": 58,
     "metadata": {},
     "output_type": "execute_result"
    }
   ],
   "source": [
    "#nesting:\n",
    "L3=[[1,2,3],[9,7,5]]\n",
    "L3"
   ]
  },
  {
   "cell_type": "code",
   "execution_count": 59,
   "id": "7027c21b-0b27-4fe5-ba0b-2869b479a370",
   "metadata": {},
   "outputs": [
    {
     "data": {
      "text/plain": [
       "[1, 2, 3, 1, 2, 3, 1, 2, 3]"
      ]
     },
     "execution_count": 59,
     "metadata": {},
     "output_type": "execute_result"
    }
   ],
   "source": [
    "#Repetition\n",
    "L1*3"
   ]
  },
  {
   "cell_type": "code",
   "execution_count": 60,
   "id": "62b158e1-f181-45aa-b691-320b609ec553",
   "metadata": {},
   "outputs": [
    {
     "data": {
      "text/plain": [
       "[]"
      ]
     },
     "execution_count": 60,
     "metadata": {},
     "output_type": "execute_result"
    }
   ],
   "source": [
    " #slicing\n",
    "L3[2:4]"
   ]
  },
  {
   "cell_type": "code",
   "execution_count": 61,
   "id": "f5c4e880-5df0-4136-b490-fbd93ecd5d12",
   "metadata": {},
   "outputs": [
    {
     "data": {
      "text/plain": [
       "[1, 2, 3, 5, 6]"
      ]
     },
     "execution_count": 61,
     "metadata": {},
     "output_type": "execute_result"
    }
   ],
   "source": [
    "#sorting\n",
    "L4=[2,6,1,5,3]\n",
    "sorted(L4)"
   ]
  },
  {
   "cell_type": "code",
   "execution_count": 62,
   "id": "605fef39-d416-40a3-8474-d497a8cea627",
   "metadata": {},
   "outputs": [],
   "source": [
    "#TUPLE Operation:Concatenation\n",
    "T1=[1,2,3]\n",
    "T2=[5,6,7]\n",
    "T3=T1+T2"
   ]
  },
  {
   "cell_type": "code",
   "execution_count": 63,
   "id": "24af8b5c-7bb8-47a2-8960-d5fb93564726",
   "metadata": {},
   "outputs": [
    {
     "data": {
      "text/plain": [
       "[1, 2, 3, 5, 6, 7]"
      ]
     },
     "execution_count": 63,
     "metadata": {},
     "output_type": "execute_result"
    }
   ],
   "source": [
    "T3"
   ]
  },
  {
   "cell_type": "code",
   "execution_count": 64,
   "id": "3559b587-38a0-4872-aca8-96295eb928f8",
   "metadata": {},
   "outputs": [
    {
     "data": {
      "text/plain": [
       "((1, 2, 3), (234, 345), (32, 45))"
      ]
     },
     "execution_count": 64,
     "metadata": {},
     "output_type": "execute_result"
    }
   ],
   "source": [
    "#nesting:\n",
    "T4=((1,2,3),(234,345),(32,45))\n",
    "T4"
   ]
  },
  {
   "cell_type": "code",
   "execution_count": 65,
   "id": "fa05b314-0fda-4c68-bcbd-de1cee72d625",
   "metadata": {},
   "outputs": [
    {
     "data": {
      "text/plain": [
       "[1, 2, 3, 1, 2, 3, 1, 2, 3]"
      ]
     },
     "execution_count": 65,
     "metadata": {},
     "output_type": "execute_result"
    }
   ],
   "source": [
    " #Repetition\n",
    "T1*3"
   ]
  },
  {
   "cell_type": "code",
   "execution_count": 66,
   "id": "891f7fd8-f6cb-4376-aa36-69572140a37b",
   "metadata": {},
   "outputs": [
    {
     "data": {
      "text/plain": [
       "[3, 5]"
      ]
     },
     "execution_count": 66,
     "metadata": {},
     "output_type": "execute_result"
    }
   ],
   "source": [
    " #slicing\n",
    "T3[2:4]"
   ]
  },
  {
   "cell_type": "code",
   "execution_count": 68,
   "id": "42c30162-bb23-4d0f-9ff9-f6fe31d6655c",
   "metadata": {},
   "outputs": [
    {
     "data": {
      "text/plain": [
       "[1, 2, 3, 4]"
      ]
     },
     "execution_count": 68,
     "metadata": {},
     "output_type": "execute_result"
    }
   ],
   "source": [
    "#sorted\n",
    "T4=(1,2,3,4)\n",
    "sorted(T4)"
   ]
  },
  {
   "cell_type": "markdown",
   "id": "9299ff56-2054-47e0-8e8f-08d70add2708",
   "metadata": {},
   "source": [
    " 4)Following Built-in functions are common for both the types: len():return number of elements in\n",
    " sequence. max():return element with largest value. min():return element with smallest value."
   ]
  },
  {
   "cell_type": "code",
   "execution_count": 70,
   "id": "3b2a254e-63ed-4b84-97f3-ab202f77ac9d",
   "metadata": {},
   "outputs": [
    {
     "data": {
      "text/plain": [
       "3"
      ]
     },
     "execution_count": 70,
     "metadata": {},
     "output_type": "execute_result"
    }
   ],
   "source": [
    "#LIST operation:\n",
    "L1=[9,67,44]\n",
    "len(L1)"
   ]
  },
  {
   "cell_type": "code",
   "execution_count": 71,
   "id": "bb5f9ff0-2778-43b9-8def-a730ab6ab817",
   "metadata": {},
   "outputs": [
    {
     "data": {
      "text/plain": [
       "67"
      ]
     },
     "execution_count": 71,
     "metadata": {},
     "output_type": "execute_result"
    }
   ],
   "source": [
    "max(L1)"
   ]
  },
  {
   "cell_type": "code",
   "execution_count": 72,
   "id": "0c24cf61-54e1-4394-a27c-a4d6f4e46aa9",
   "metadata": {},
   "outputs": [
    {
     "data": {
      "text/plain": [
       "9"
      ]
     },
     "execution_count": 72,
     "metadata": {},
     "output_type": "execute_result"
    }
   ],
   "source": [
    "min(L1)"
   ]
  },
  {
   "cell_type": "code",
   "execution_count": 73,
   "id": "5952aac3-5e8f-488e-beb2-fa4fba10c500",
   "metadata": {},
   "outputs": [
    {
     "data": {
      "text/plain": [
       "3"
      ]
     },
     "execution_count": 73,
     "metadata": {},
     "output_type": "execute_result"
    }
   ],
   "source": [
    "#TUPLE operation:\n",
    "T1=[9,67,44]\n",
    "len(T1)"
   ]
  },
  {
   "cell_type": "code",
   "execution_count": 74,
   "id": "00685f3b-f54f-423e-899f-06de1e83ebdf",
   "metadata": {},
   "outputs": [
    {
     "data": {
      "text/plain": [
       "67"
      ]
     },
     "execution_count": 74,
     "metadata": {},
     "output_type": "execute_result"
    }
   ],
   "source": [
    "max(T1)"
   ]
  },
  {
   "cell_type": "code",
   "execution_count": 75,
   "id": "5991d428-6c5e-491b-bdd5-c1a728cb0b88",
   "metadata": {},
   "outputs": [
    {
     "data": {
      "text/plain": [
       "9"
      ]
     },
     "execution_count": 75,
     "metadata": {},
     "output_type": "execute_result"
    }
   ],
   "source": [
    "min(T1)"
   ]
  },
  {
   "cell_type": "markdown",
   "id": "825a1e75-1478-4bfa-bb87-80e300f106a6",
   "metadata": {},
   "source": [
    " DIFFERENCES:Lists are mutable,possible to modify as to append,delete,insert,update the ele\n",
    "ments in the list. THE elements in lists are stored in single variable separated by commas and\n",
    " enclosed in square bracket[]."
   ]
  },
  {
   "cell_type": "code",
   "execution_count": 76,
   "id": "1f709711-03ff-4336-ae99-d0c538f0db33",
   "metadata": {},
   "outputs": [
    {
     "data": {
      "text/plain": [
       "[34, 67, 89, 80]"
      ]
     },
     "execution_count": 76,
     "metadata": {},
     "output_type": "execute_result"
    }
   ],
   "source": [
    " #list operation:\n",
    "L1=[34,67,89]\n",
    "L1.append(80)\n",
    "L1"
   ]
  },
  {
   "cell_type": "code",
   "execution_count": 77,
   "id": "3b679b68-537b-44ac-8206-7b988687af81",
   "metadata": {},
   "outputs": [
    {
     "data": {
      "text/plain": [
       "[12, 14]"
      ]
     },
     "execution_count": 77,
     "metadata": {},
     "output_type": "execute_result"
    }
   ],
   "source": [
    "l2=[12,13,14]\n",
    "l2.remove(13)\n",
    "l2"
   ]
  },
  {
   "cell_type": "code",
   "execution_count": 78,
   "id": "4343b84f-eb36-4316-8171-55edc3e51a77",
   "metadata": {},
   "outputs": [
    {
     "data": {
      "text/plain": [
       "12"
      ]
     },
     "execution_count": 78,
     "metadata": {},
     "output_type": "execute_result"
    }
   ],
   "source": [
    "12"
   ]
  },
  {
   "cell_type": "code",
   "execution_count": 81,
   "id": "43a68317-4356-4ba7-9f3b-f80cbb077d7c",
   "metadata": {},
   "outputs": [
    {
     "data": {
      "text/plain": [
       "[12, 13, 14]"
      ]
     },
     "execution_count": 81,
     "metadata": {},
     "output_type": "execute_result"
    }
   ],
   "source": [
    "l2.insert(1,13)\n",
    "l2"
   ]
  },
  {
   "cell_type": "code",
   "execution_count": 80,
   "id": "de9f7e2e-c985-4606-ad0d-2da27f9f3c5f",
   "metadata": {},
   "outputs": [
    {
     "data": {
      "text/plain": [
       "12"
      ]
     },
     "execution_count": 80,
     "metadata": {},
     "output_type": "execute_result"
    }
   ],
   "source": [
    "12"
   ]
  },
  {
   "cell_type": "code",
   "execution_count": 82,
   "id": "f22222b1-1ac0-4465-bdd0-fe78671457ac",
   "metadata": {},
   "outputs": [
    {
     "data": {
      "text/plain": [
       "[12, 13, 100]"
      ]
     },
     "execution_count": 82,
     "metadata": {},
     "output_type": "execute_result"
    }
   ],
   "source": [
    "l2[2]=100 #update\n",
    "l2"
   ]
  },
  {
   "cell_type": "markdown",
   "id": "da17ce99-9878-4030-a3dc-5c4f19feb99c",
   "metadata": {},
   "source": [
    "Tuple is immutable any operation relatedmodify results in attribute error. The elements in tuple\n",
    " are stored in single variable and are separated by commas and enclosed in parantheses()"
   ]
  },
  {
   "cell_type": "code",
   "execution_count": 83,
   "id": "1a484b96-51de-4a4c-bd85-155b31bff1f6",
   "metadata": {},
   "outputs": [
    {
     "ename": "AttributeError",
     "evalue": "'tuple' object has no attribute 'append'",
     "output_type": "error",
     "traceback": [
      "\u001b[0;31m---------------------------------------------------------------------------\u001b[0m",
      "\u001b[0;31mAttributeError\u001b[0m                            Traceback (most recent call last)",
      "Cell \u001b[0;32mIn[83], line 3\u001b[0m\n\u001b[1;32m      1\u001b[0m \u001b[38;5;66;03m#tuple operation\u001b[39;00m\n\u001b[1;32m      2\u001b[0m T1\u001b[38;5;241m=\u001b[39m(\u001b[38;5;241m1\u001b[39m,\u001b[38;5;241m2\u001b[39m,\u001b[38;5;241m3\u001b[39m)\n\u001b[0;32m----> 3\u001b[0m \u001b[43mT1\u001b[49m\u001b[38;5;241;43m.\u001b[39;49m\u001b[43mappend\u001b[49m(\u001b[38;5;241m4\u001b[39m)\n\u001b[1;32m      4\u001b[0m T1\n",
      "\u001b[0;31mAttributeError\u001b[0m: 'tuple' object has no attribute 'append'"
     ]
    }
   ],
   "source": [
    "#tuple operation\n",
    "T1=(1,2,3)\n",
    "T1.append(4)\n",
    "T1"
   ]
  },
  {
   "cell_type": "code",
   "execution_count": 84,
   "id": "d6a3fb4c-d91e-4a6f-8585-36a7699d1007",
   "metadata": {},
   "outputs": [
    {
     "ename": "AttributeError",
     "evalue": "'tuple' object has no attribute 'remove'",
     "output_type": "error",
     "traceback": [
      "\u001b[0;31m---------------------------------------------------------------------------\u001b[0m",
      "\u001b[0;31mAttributeError\u001b[0m                            Traceback (most recent call last)",
      "Cell \u001b[0;32mIn[84], line 1\u001b[0m\n\u001b[0;32m----> 1\u001b[0m \u001b[43mT1\u001b[49m\u001b[38;5;241;43m.\u001b[39;49m\u001b[43mremove\u001b[49m(\u001b[38;5;241m1\u001b[39m)\n\u001b[1;32m      2\u001b[0m t1\n",
      "\u001b[0;31mAttributeError\u001b[0m: 'tuple' object has no attribute 'remove'"
     ]
    }
   ],
   "source": [
    "T1.remove(1)\n",
    "t1"
   ]
  },
  {
   "cell_type": "code",
   "execution_count": 85,
   "id": "0c17340a-2521-4751-974e-5e0167da32b0",
   "metadata": {},
   "outputs": [
    {
     "ename": "TypeError",
     "evalue": "'tuple' object does not support item assignment",
     "output_type": "error",
     "traceback": [
      "\u001b[0;31m---------------------------------------------------------------------------\u001b[0m",
      "\u001b[0;31mTypeError\u001b[0m                                 Traceback (most recent call last)",
      "Cell \u001b[0;32mIn[85], line 1\u001b[0m\n\u001b[0;32m----> 1\u001b[0m \u001b[43mT1\u001b[49m\u001b[43m[\u001b[49m\u001b[38;5;241;43m2\u001b[39;49m\u001b[43m]\u001b[49m\u001b[38;5;241m=\u001b[39m\u001b[38;5;241m100\u001b[39m\n\u001b[1;32m      2\u001b[0m T1\n",
      "\u001b[0;31mTypeError\u001b[0m: 'tuple' object does not support item assignment"
     ]
    }
   ],
   "source": [
    "T1[2]=100\n",
    "T1"
   ]
  },
  {
   "cell_type": "markdown",
   "id": "6126a781-891f-4d2c-857a-5990f96faebb",
   "metadata": {},
   "source": [
    "#  Q5)Describe key features of sets and provide examples of their use."
   ]
  },
  {
   "cell_type": "markdown",
   "id": "93de6cdf-45f4-471a-bf86-fe566d95a027",
   "metadata": {},
   "source": [
    " ANS:set is built-in datatype and is the collection unordered elements/objects in single variable\n",
    " ex:set={1,2,3} The key features of set are as follows explained with examples:"
   ]
  },
  {
   "cell_type": "code",
   "execution_count": 86,
   "id": "9378743c-1180-4c23-99db-180043d53b0e",
   "metadata": {},
   "outputs": [
    {
     "data": {
      "text/plain": [
       "{1, 2, 4, 9}"
      ]
     },
     "execution_count": 86,
     "metadata": {},
     "output_type": "execute_result"
    }
   ],
   "source": [
    " #1)set gives unordered, unique elements, no duplicates allowed so they are␣↪ignored at output.\n",
    "set={1,2,9,4,1,1}\n",
    "set"
   ]
  },
  {
   "cell_type": "code",
   "execution_count": 87,
   "id": "3f32ab78-04d6-4ca6-bf8b-f3fd255f4ccb",
   "metadata": {},
   "outputs": [
    {
     "ename": "TypeError",
     "evalue": "'set' object is not subscriptable",
     "output_type": "error",
     "traceback": [
      "\u001b[0;31m---------------------------------------------------------------------------\u001b[0m",
      "\u001b[0;31mTypeError\u001b[0m                                 Traceback (most recent call last)",
      "Cell \u001b[0;32mIn[87], line 1\u001b[0m\n\u001b[0;32m----> 1\u001b[0m \u001b[38;5;28;43mset\u001b[39;49m\u001b[43m[\u001b[49m\u001b[38;5;241;43m0\u001b[39;49m\u001b[43m]\u001b[49m \u001b[38;5;66;03m#2)can't access index\u001b[39;00m\n",
      "\u001b[0;31mTypeError\u001b[0m: 'set' object is not subscriptable"
     ]
    }
   ],
   "source": [
    "set[0] #2)can't access index"
   ]
  },
  {
   "cell_type": "code",
   "execution_count": 88,
   "id": "54c49d08-8f5a-439c-85c7-2de986b512db",
   "metadata": {},
   "outputs": [
    {
     "data": {
      "text/plain": [
       "{1, 2, 4, 9, 100}"
      ]
     },
     "execution_count": 88,
     "metadata": {},
     "output_type": "execute_result"
    }
   ],
   "source": [
    "#3)They are unchangeable means once set is created,cannot change its elements␣↪but can remove and add elements.hence,they are mutable.\n",
    "set.add(100)\n",
    "set"
   ]
  },
  {
   "cell_type": "code",
   "execution_count": 89,
   "id": "3ee24e0f-995b-4ac5-9828-861565ffef39",
   "metadata": {},
   "outputs": [
    {
     "data": {
      "text/plain": [
       "{1, 4, 9, 100}"
      ]
     },
     "execution_count": 89,
     "metadata": {},
     "output_type": "execute_result"
    }
   ],
   "source": [
    "set.remove(2)\n",
    "set"
   ]
  },
  {
   "cell_type": "code",
   "execution_count": 90,
   "id": "a751092c-dc2a-4532-978d-9e6bb0334bb3",
   "metadata": {},
   "outputs": [
    {
     "data": {
      "text/plain": [
       "4"
      ]
     },
     "execution_count": 90,
     "metadata": {},
     "output_type": "execute_result"
    }
   ],
   "source": [
    "len(set) #to detemine how many elements in set"
   ]
  },
  {
   "cell_type": "code",
   "execution_count": 91,
   "id": "8823efb5-698f-4674-8517-73252fcfbf61",
   "metadata": {},
   "outputs": [
    {
     "data": {
      "text/plain": [
       "{1, 2, 3, 4, 5}"
      ]
     },
     "execution_count": 91,
     "metadata": {},
     "output_type": "execute_result"
    }
   ],
   "source": [
    " #opeartors used in set are:union,intersection,difference,symmetric difference\n",
    "S1={1,2,3}\n",
    "S2={3,4,5}\n",
    "S1|S2 #UNION:All the elements"
   ]
  },
  {
   "cell_type": "code",
   "execution_count": 92,
   "id": "a3b508cd-6c0a-4d78-85c7-5a04e771575b",
   "metadata": {},
   "outputs": [
    {
     "data": {
      "text/plain": [
       "{3}"
      ]
     },
     "execution_count": 92,
     "metadata": {},
     "output_type": "execute_result"
    }
   ],
   "source": [
    "S1&S2 #INTERSECTION:commom elements"
   ]
  },
  {
   "cell_type": "code",
   "execution_count": 93,
   "id": "7589592b-14a8-4271-adb0-4b58a2220604",
   "metadata": {},
   "outputs": [
    {
     "data": {
      "text/plain": [
       "{1, 2}"
      ]
     },
     "execution_count": 93,
     "metadata": {},
     "output_type": "execute_result"
    }
   ],
   "source": [
    "S1-S2 #DIFFERENCE:present in first set but not in second set"
   ]
  },
  {
   "cell_type": "code",
   "execution_count": 94,
   "id": "a72624e0-aee8-4979-9457-5252c0bbcf0f",
   "metadata": {},
   "outputs": [
    {
     "data": {
      "text/plain": [
       "{1, 2, 4, 5}"
      ]
     },
     "execution_count": 94,
     "metadata": {},
     "output_type": "execute_result"
    }
   ],
   "source": [
    "S1^S2 #SYMMETRIC DIFFERENCE:not common elements"
   ]
  },
  {
   "cell_type": "markdown",
   "id": "bc959597-6e38-4f66-84fe-5a04644653ba",
   "metadata": {},
   "source": [
    "# Q6)Discuss the use cases of tuples and sets in python programming."
   ]
  },
  {
   "cell_type": "markdown",
   "id": "cf60c625-3dc8-4a4d-9f34-8eee04d26e3d",
   "metadata": {},
   "source": [
    "ANS:tuples are ordered collection of elements used to store multiple,duplicate elements in a single\n",
    " variable They are heterogeneous and immutable(unchangeable) so they are used to store data which\n",
    " cannot be changed ever ex:account no.,adhar card no,ATM no. here are some following opeartions\n",
    " used in tuple:"
   ]
  },
  {
   "cell_type": "code",
   "execution_count": 95,
   "id": "b48f2698-e13b-4df0-9a94-b88151122194",
   "metadata": {},
   "outputs": [
    {
     "data": {
      "text/plain": [
       "(1, 2, 2, 'monjo', True, None)"
      ]
     },
     "execution_count": 95,
     "metadata": {},
     "output_type": "execute_result"
    }
   ],
   "source": [
    " #creating a tuple\n",
    "t=(1,2,2,\"monjo\",True,None)\n",
    "t"
   ]
  },
  {
   "cell_type": "code",
   "execution_count": 96,
   "id": "3bb5009e-86ff-4fe8-87d0-c9a0b895c70e",
   "metadata": {},
   "outputs": [
    {
     "data": {
      "text/plain": [
       "tuple"
      ]
     },
     "execution_count": 96,
     "metadata": {},
     "output_type": "execute_result"
    }
   ],
   "source": [
    "type(t) #to see the type"
   ]
  },
  {
   "cell_type": "code",
   "execution_count": 97,
   "id": "eed8c4a1-8e4a-483f-8bd8-2e5a9ec82f29",
   "metadata": {},
   "outputs": [
    {
     "data": {
      "text/plain": [
       "(1, 2, 3, 5)"
      ]
     },
     "execution_count": 97,
     "metadata": {},
     "output_type": "execute_result"
    }
   ],
   "source": [
    "#tuples are accessed by index\n",
    "t=(1,2,3,5)\n",
    "t"
   ]
  },
  {
   "cell_type": "code",
   "execution_count": 98,
   "id": "41088e14-0687-440d-9956-36612bc36cb8",
   "metadata": {},
   "outputs": [
    {
     "data": {
      "text/plain": [
       "1"
      ]
     },
     "execution_count": 98,
     "metadata": {},
     "output_type": "execute_result"
    }
   ],
   "source": [
    "t[0]"
   ]
  },
  {
   "cell_type": "code",
   "execution_count": 99,
   "id": "ac4f0c24-923c-4deb-b193-7f6e57b8f686",
   "metadata": {},
   "outputs": [
    {
     "data": {
      "text/plain": [
       "5"
      ]
     },
     "execution_count": 99,
     "metadata": {},
     "output_type": "execute_result"
    }
   ],
   "source": [
    "t[-1]"
   ]
  },
  {
   "cell_type": "code",
   "execution_count": 101,
   "id": "45a18c3a-7981-4c61-a926-911cf04c6bcd",
   "metadata": {},
   "outputs": [
    {
     "ename": "TypeError",
     "evalue": "'tuple' object does not support item assignment",
     "output_type": "error",
     "traceback": [
      "\u001b[0;31m---------------------------------------------------------------------------\u001b[0m",
      "\u001b[0;31mTypeError\u001b[0m                                 Traceback (most recent call last)",
      "Cell \u001b[0;32mIn[101], line 2\u001b[0m\n\u001b[1;32m      1\u001b[0m \u001b[38;5;66;03m#if wanted to change the value in tuple error occurs\u001b[39;00m\n\u001b[0;32m----> 2\u001b[0m \u001b[43mt\u001b[49m\u001b[43m[\u001b[49m\u001b[38;5;241;43m0\u001b[39;49m\u001b[43m]\u001b[49m \u001b[38;5;241m=\u001b[39m \u001b[38;5;241m5\u001b[39m\n",
      "\u001b[0;31mTypeError\u001b[0m: 'tuple' object does not support item assignment"
     ]
    }
   ],
   "source": [
    "#if wanted to change the value in tuple error occurs\n",
    "t[0] = 5"
   ]
  },
  {
   "cell_type": "code",
   "execution_count": 102,
   "id": "7d2d5aa3-11ea-4a7c-a264-db342f5b2279",
   "metadata": {},
   "outputs": [
    {
     "data": {
      "text/plain": [
       "1"
      ]
     },
     "execution_count": 102,
     "metadata": {},
     "output_type": "execute_result"
    }
   ],
   "source": [
    "t.count(2) #count values of element"
   ]
  },
  {
   "cell_type": "code",
   "execution_count": 103,
   "id": "99199b83-ef9c-4974-a6d7-3c61607b3218",
   "metadata": {},
   "outputs": [
    {
     "data": {
      "text/plain": [
       "2"
      ]
     },
     "execution_count": 103,
     "metadata": {},
     "output_type": "execute_result"
    }
   ],
   "source": [
    "t.index(3) #see index of any element"
   ]
  },
  {
   "cell_type": "code",
   "execution_count": 104,
   "id": "7be8cda7-aba7-42c7-be79-180801691555",
   "metadata": {},
   "outputs": [
    {
     "data": {
      "text/plain": [
       "4"
      ]
     },
     "execution_count": 104,
     "metadata": {},
     "output_type": "execute_result"
    }
   ],
   "source": [
    "len(t)"
   ]
  },
  {
   "cell_type": "code",
   "execution_count": 105,
   "id": "383d97b9-cfac-4b45-90a4-a999c3d054f1",
   "metadata": {},
   "outputs": [
    {
     "data": {
      "text/plain": [
       "[1, 4, 6, 7]"
      ]
     },
     "execution_count": 105,
     "metadata": {},
     "output_type": "execute_result"
    }
   ],
   "source": [
    "t=(1,4,6,7)\n",
    "sorted(t)"
   ]
  },
  {
   "cell_type": "code",
   "execution_count": 106,
   "id": "78762f10-0741-454e-8a7c-b44b52e59b49",
   "metadata": {},
   "outputs": [
    {
     "data": {
      "text/plain": [
       "True"
      ]
     },
     "execution_count": 106,
     "metadata": {},
     "output_type": "execute_result"
    }
   ],
   "source": [
    "1 in t #see if element is present in tuple"
   ]
  },
  {
   "cell_type": "code",
   "execution_count": 107,
   "id": "eebcb04f-315c-45df-8531-977f10631f58",
   "metadata": {},
   "outputs": [
    {
     "data": {
      "text/plain": [
       "((1, 2, 3), (4, 5, 6))"
      ]
     },
     "execution_count": 107,
     "metadata": {},
     "output_type": "execute_result"
    }
   ],
   "source": [
    "#nesting of tuple\n",
    "t=((1,2,3),(4,5,6))\n",
    "t"
   ]
  },
  {
   "cell_type": "markdown",
   "id": "ec7cab6a-fb5c-4b9b-84e9-a1b11001ba78",
   "metadata": {},
   "source": [
    " set is unordered collection of unique elements no duplicates,dont have index cannot access.They\n",
    " are mutable and unchangeable. sets are used in industry like to know unqiue elements in two\n",
    " dataframes.here,set operations like union,insection etc are used. df1=5,8,6,2 df2=6,2,8,5"
   ]
  },
  {
   "cell_type": "code",
   "execution_count": 108,
   "id": "446bba48-bf9e-429f-a11c-353098501013",
   "metadata": {},
   "outputs": [
    {
     "data": {
      "text/plain": [
       "{1, 2, 3}"
      ]
     },
     "execution_count": 108,
     "metadata": {},
     "output_type": "execute_result"
    }
   ],
   "source": [
    " #creating set\n",
    "s={1,1,1,2,3}\n",
    "s"
   ]
  },
  {
   "cell_type": "code",
   "execution_count": 109,
   "id": "07061d45-8475-40cf-b110-326f02bb104a",
   "metadata": {},
   "outputs": [
    {
     "ename": "TypeError",
     "evalue": "'set' object is not subscriptable",
     "output_type": "error",
     "traceback": [
      "\u001b[0;31m---------------------------------------------------------------------------\u001b[0m",
      "\u001b[0;31mTypeError\u001b[0m                                 Traceback (most recent call last)",
      "Cell \u001b[0;32mIn[109], line 1\u001b[0m\n\u001b[0;32m----> 1\u001b[0m \u001b[43ms\u001b[49m\u001b[43m[\u001b[49m\u001b[38;5;241;43m0\u001b[39;49m\u001b[43m]\u001b[49m \u001b[38;5;66;03m#cannot access index\u001b[39;00m\n",
      "\u001b[0;31mTypeError\u001b[0m: 'set' object is not subscriptable"
     ]
    }
   ],
   "source": [
    "s[0] #cannot access index"
   ]
  },
  {
   "cell_type": "code",
   "execution_count": 110,
   "id": "0096c2e3-72c9-4465-96f9-ddd807ec0055",
   "metadata": {},
   "outputs": [
    {
     "ename": "TypeError",
     "evalue": "'set' object does not support item assignment",
     "output_type": "error",
     "traceback": [
      "\u001b[0;31m---------------------------------------------------------------------------\u001b[0m",
      "\u001b[0;31mTypeError\u001b[0m                                 Traceback (most recent call last)",
      "Cell \u001b[0;32mIn[110], line 1\u001b[0m\n\u001b[0;32m----> 1\u001b[0m \u001b[43ms\u001b[49m\u001b[43m[\u001b[49m\u001b[38;5;241;43m2\u001b[39;49m\u001b[43m]\u001b[49m\u001b[38;5;241m=\u001b[39m\u001b[38;5;241m100\u001b[39m \u001b[38;5;66;03m#can't change once created\u001b[39;00m\n",
      "\u001b[0;31mTypeError\u001b[0m: 'set' object does not support item assignment"
     ]
    }
   ],
   "source": [
    "s[2]=100 #can't change once created"
   ]
  },
  {
   "cell_type": "code",
   "execution_count": 112,
   "id": "d76b0e44-3911-4848-847f-e17b17290c70",
   "metadata": {},
   "outputs": [
    {
     "data": {
      "text/plain": [
       "{1, 2, 3, 100}"
      ]
     },
     "execution_count": 112,
     "metadata": {},
     "output_type": "execute_result"
    }
   ],
   "source": [
    "#but we can add and remove\n",
    "s.add(100)\n",
    "s"
   ]
  },
  {
   "cell_type": "code",
   "execution_count": 113,
   "id": "218f8690-7ac5-4f0e-8ee0-18564a36848a",
   "metadata": {},
   "outputs": [
    {
     "data": {
      "text/plain": [
       "{1, 2, 3}"
      ]
     },
     "execution_count": 113,
     "metadata": {},
     "output_type": "execute_result"
    }
   ],
   "source": [
    "s.remove(100)\n",
    "s"
   ]
  },
  {
   "cell_type": "code",
   "execution_count": 114,
   "id": "529ad542-1f6a-4e6e-8b60-96dd63dd5d55",
   "metadata": {},
   "outputs": [
    {
     "data": {
      "text/plain": [
       "set()"
      ]
     },
     "execution_count": 114,
     "metadata": {},
     "output_type": "execute_result"
    }
   ],
   "source": [
    "s.clear()\n",
    "s"
   ]
  },
  {
   "cell_type": "code",
   "execution_count": 115,
   "id": "4f31bbb6-a748-4454-bba0-416896da5b8d",
   "metadata": {},
   "outputs": [
    {
     "data": {
      "text/plain": [
       "{1, 2, 3, 4, 5}"
      ]
     },
     "execution_count": 115,
     "metadata": {},
     "output_type": "execute_result"
    }
   ],
   "source": [
    " #different operations also performed:\n",
    "s1={1,2,3}\n",
    "s2={3,4,5}\n",
    "s1|s2 #union:include all elements"
   ]
  },
  {
   "cell_type": "code",
   "execution_count": 116,
   "id": "5a41e2ee-c934-41b4-a402-b072f024712d",
   "metadata": {},
   "outputs": [
    {
     "data": {
      "text/plain": [
       "{3}"
      ]
     },
     "execution_count": 116,
     "metadata": {},
     "output_type": "execute_result"
    }
   ],
   "source": [
    "s1&s2 #intersection:commom elements"
   ]
  },
  {
   "cell_type": "code",
   "execution_count": 117,
   "id": "d9b64dac-b6cf-45a9-bad8-582b6f95fdec",
   "metadata": {},
   "outputs": [
    {
     "data": {
      "text/plain": [
       "{1, 2}"
      ]
     },
     "execution_count": 117,
     "metadata": {},
     "output_type": "execute_result"
    }
   ],
   "source": [
    "s1-s2"
   ]
  },
  {
   "cell_type": "code",
   "execution_count": 118,
   "id": "77d58807-c93d-4bbc-a60a-5e2c6a9df058",
   "metadata": {},
   "outputs": [
    {
     "data": {
      "text/plain": [
       "{1, 2}"
      ]
     },
     "execution_count": 118,
     "metadata": {},
     "output_type": "execute_result"
    }
   ],
   "source": [
    "s1-s2"
   ]
  },
  {
   "cell_type": "markdown",
   "id": "b54398ca-ef27-4758-96ed-0bdcf7c4147d",
   "metadata": {},
   "source": [
    "# Q7)Describe how to add,modify and delete items in a dictionary with examples."
   ]
  },
  {
   "cell_type": "markdown",
   "id": "ef014a53-0379-4853-bbd1-4112036e49a5",
   "metadata": {},
   "source": [
    "ANS:Dictionary is unordered collection of elements. data is stored in key value pair,keys are unique\n",
    " and immutable cannot change once created but values assigned to keys can be change."
   ]
  },
  {
   "cell_type": "code",
   "execution_count": 119,
   "id": "6fbb7494-a6e6-4f40-a592-247b2d4ee0d5",
   "metadata": {},
   "outputs": [
    {
     "data": {
      "text/plain": [
       "{'name': 'ajay', 'email': 'ajay@gmail.com'}"
      ]
     },
     "execution_count": 119,
     "metadata": {},
     "output_type": "execute_result"
    }
   ],
   "source": [
    " #create a dictionary\n",
    " d={\"name\":\"ajay\",\"email\":\"ajay@gmail.com\"} #key:value\n",
    " d"
   ]
  },
  {
   "cell_type": "code",
   "execution_count": 120,
   "id": "24fceaff-db42-43ae-8ef1-975d5796d97f",
   "metadata": {},
   "outputs": [
    {
     "data": {
      "text/plain": [
       "'ajay'"
      ]
     },
     "execution_count": 120,
     "metadata": {},
     "output_type": "execute_result"
    }
   ],
   "source": [
    "d['name']"
   ]
  },
  {
   "cell_type": "code",
   "execution_count": 122,
   "id": "03ee2c1d-3372-48b6-a94c-e67cdc501f0f",
   "metadata": {},
   "outputs": [
    {
     "data": {
      "text/plain": [
       "{(1, 2): 'ajay'}"
      ]
     },
     "execution_count": 122,
     "metadata": {},
     "output_type": "execute_result"
    }
   ],
   "source": [
    "d1={(1,2):\"ajay\"} #key can be tuple as tuple is also immutable\n",
    "d1"
   ]
  },
  {
   "cell_type": "code",
   "execution_count": 123,
   "id": "b9514181-a0d1-4c02-a181-8d0fe609aba2",
   "metadata": {},
   "outputs": [
    {
     "data": {
      "text/plain": [
       "{'name': 'ajay', 'email': 'ajay@gmail.com'}"
      ]
     },
     "execution_count": 123,
     "metadata": {},
     "output_type": "execute_result"
    }
   ],
   "source": [
    "d"
   ]
  },
  {
   "cell_type": "code",
   "execution_count": 124,
   "id": "33ab8b95-c0b2-489d-91d0-807ec701ed56",
   "metadata": {},
   "outputs": [
    {
     "data": {
      "text/plain": [
       "{'name': 'ajay', 'email': 'ajay@gmail.com', 'couse': 'ds'}"
      ]
     },
     "execution_count": 124,
     "metadata": {},
     "output_type": "execute_result"
    }
   ],
   "source": [
    "d[\"couse\"]=\"ds\" #add key value pair\n",
    "d"
   ]
  },
  {
   "cell_type": "code",
   "execution_count": 127,
   "id": "ec6d0340-d147-4632-836d-afb8ae959eb0",
   "metadata": {},
   "outputs": [
    {
     "data": {
      "text/plain": [
       "{'name': 'ajay', 'email': 'ajay@gmail.com'}"
      ]
     },
     "execution_count": 127,
     "metadata": {},
     "output_type": "execute_result"
    }
   ],
   "source": [
    "del d[\"couse\"]\n",
    "d"
   ]
  },
  {
   "cell_type": "code",
   "execution_count": 128,
   "id": "800dca46-06e1-4aa5-9ff0-2110b8d23c12",
   "metadata": {},
   "outputs": [
    {
     "data": {
      "text/plain": [
       "dict_keys(['name', 'email'])"
      ]
     },
     "execution_count": 128,
     "metadata": {},
     "output_type": "execute_result"
    }
   ],
   "source": [
    "d.keys()"
   ]
  },
  {
   "cell_type": "code",
   "execution_count": 129,
   "id": "81846fe6-6313-4c96-bf17-2cfe0bae1253",
   "metadata": {},
   "outputs": [
    {
     "data": {
      "text/plain": [
       "dict_values(['ajay', 'ajay@gmail.com'])"
      ]
     },
     "execution_count": 129,
     "metadata": {},
     "output_type": "execute_result"
    }
   ],
   "source": [
    "d.values()"
   ]
  },
  {
   "cell_type": "code",
   "execution_count": 130,
   "id": "7b66fdfb-5aa9-429a-b94d-ccba0f394b32",
   "metadata": {},
   "outputs": [
    {
     "data": {
      "text/plain": [
       "{'name': 'ajay', 'email': 'ajay@gmail.com', 'course': 'ml'}"
      ]
     },
     "execution_count": 130,
     "metadata": {},
     "output_type": "execute_result"
    }
   ],
   "source": [
    "d1={\"course\":\"ml\"}\n",
    "d.update(d1)\n",
    "d"
   ]
  },
  {
   "cell_type": "code",
   "execution_count": 131,
   "id": "ab0886eb-b900-4919-acd5-58ca6eb02508",
   "metadata": {},
   "outputs": [
    {
     "data": {
      "text/plain": [
       "{}"
      ]
     },
     "execution_count": 131,
     "metadata": {},
     "output_type": "execute_result"
    }
   ],
   "source": [
    "d.clear()\n",
    "d"
   ]
  },
  {
   "cell_type": "code",
   "execution_count": 132,
   "id": "3fb501c6-f005-4878-94de-229c79c931ec",
   "metadata": {},
   "outputs": [
    {
     "ename": "NameError",
     "evalue": "name 'd' is not defined",
     "output_type": "error",
     "traceback": [
      "\u001b[0;31m---------------------------------------------------------------------------\u001b[0m",
      "\u001b[0;31mNameError\u001b[0m                                 Traceback (most recent call last)",
      "Cell \u001b[0;32mIn[132], line 2\u001b[0m\n\u001b[1;32m      1\u001b[0m \u001b[38;5;28;01mdel\u001b[39;00m d\n\u001b[0;32m----> 2\u001b[0m \u001b[43md\u001b[49m\n",
      "\u001b[0;31mNameError\u001b[0m: name 'd' is not defined"
     ]
    }
   ],
   "source": [
    "del d\n",
    "d"
   ]
  },
  {
   "cell_type": "markdown",
   "id": "4a561a29-4f82-4aa2-9d7c-cf17ceb7a58a",
   "metadata": {},
   "source": [
    "#  Q8)Discuss the importance of dictionary keys being immutable and provide examples"
   ]
  },
  {
   "cell_type": "markdown",
   "id": "109c6b04-4b45-4cfc-bfe7-57c8d42dc081",
   "metadata": {},
   "source": [
    " ANS:Dictionary is collection of ordered elements,changeable,no duplicate allowed data is stored in\n",
    " key value pair but keys are immutable but values assigned to keys can be changed. Dictionary\n",
    " keys must be immutable because it ensures that dicitionary can efficiently look up values based on\n",
    " their keys. If a key was mutable,its hash value could change,making it impossible to find associated\n",
    " value in dictionary."
   ]
  },
  {
   "cell_type": "code",
   "execution_count": 133,
   "id": "008d4afc-86b9-4ca7-94bb-8160e76ecbf0",
   "metadata": {},
   "outputs": [
    {
     "data": {
      "text/plain": [
       "{'id': 'ajay', 'department': 'enginerring'}"
      ]
     },
     "execution_count": 133,
     "metadata": {},
     "output_type": "execute_result"
    }
   ],
   "source": [
    "#ex\n",
    "emp_record={\"id\":\"ajay\",\"department\":\"enginerring\"} #id and department␣↪immutable and ajay enginerring mutable\n",
    "emp_record"
   ]
  },
  {
   "cell_type": "code",
   "execution_count": 134,
   "id": "4f34007f-87f7-402d-b032-9aa3b6fb895d",
   "metadata": {},
   "outputs": [
    {
     "data": {
      "text/plain": [
       "{'name': 'alice', 'age': 30}"
      ]
     },
     "execution_count": 134,
     "metadata": {},
     "output_type": "execute_result"
    }
   ],
   "source": [
    " #ex\n",
    "d={\"name\":\"alice\",\"age\":30}\n",
    " d"
   ]
  },
  {
   "cell_type": "code",
   "execution_count": null,
   "id": "d6b46d12-25b4-4a79-bf89-90668beebfa9",
   "metadata": {},
   "outputs": [],
   "source": []
  }
 ],
 "metadata": {
  "kernelspec": {
   "display_name": "Python 3 (ipykernel)",
   "language": "python",
   "name": "python3"
  },
  "language_info": {
   "codemirror_mode": {
    "name": "ipython",
    "version": 3
   },
   "file_extension": ".py",
   "mimetype": "text/x-python",
   "name": "python",
   "nbconvert_exporter": "python",
   "pygments_lexer": "ipython3",
   "version": "3.10.8"
  }
 },
 "nbformat": 4,
 "nbformat_minor": 5
}
